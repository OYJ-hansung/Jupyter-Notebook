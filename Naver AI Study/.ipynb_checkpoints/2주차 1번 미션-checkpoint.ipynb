{
 "cells": [
  {
   "cell_type": "code",
   "execution_count": 37,
   "id": "453c4754",
   "metadata": {},
   "outputs": [],
   "source": [
    "# test score, mid : 50, final : 75\n",
    "\n",
    "class Score():\n",
    "    def __init__(self, mid, final):\n",
    "        self.__mid = mid\n",
    "        self.__final = final\n",
    "        \n",
    "    def score_mid(self):\n",
    "        return self.__mid\n",
    "    \n",
    "    def score_final(self):\n",
    "        return self.__final\n",
    "    \n",
    "    def score_average(self):\n",
    "        return ((self.__mid + self.__final)/2)\n",
    "    "
   ]
  },
  {
   "cell_type": "code",
   "execution_count": 38,
   "id": "bfa67383",
   "metadata": {},
   "outputs": [
    {
     "data": {
      "text/plain": [
       "62.5"
      ]
     },
     "execution_count": 38,
     "metadata": {},
     "output_type": "execute_result"
    }
   ],
   "source": [
    "#출력함수\n",
    "score = Score(50, 75)\n",
    "score.score_mid()\n",
    "score.score_final()\n",
    "score.score_average()"
   ]
  },
  {
   "cell_type": "code",
   "execution_count": 18,
   "id": "06cee64d",
   "metadata": {},
   "outputs": [
    {
     "name": "stdout",
     "output_type": "stream",
     "text": [
      "50\n",
      "75\n",
      "62.5\n"
     ]
    }
   ],
   "source": [
    "class student_score():\n",
    "    def __init__(self, mid: int, final: int):\n",
    "        self.__mid = mid\n",
    "        self.__final = final\n",
    "\n",
    "    def score_mid(self):\n",
    "        return self.__mid\n",
    "\n",
    "    def score_final(self):\n",
    "        return self.__final\n",
    "\n",
    "    def score_average(self):\n",
    "        print((self.__mid + self.__final) / 2)\n",
    "\n",
    "\n",
    "score = student_score(50, 75)\n",
    "print(score.score_mid())\n",
    "print(score.score_final())\n",
    "score.score_average()\n"
   ]
  },
  {
   "cell_type": "code",
   "execution_count": null,
   "id": "6d21da81",
   "metadata": {},
   "outputs": [],
   "source": []
  }
 ],
 "metadata": {
  "kernelspec": {
   "display_name": "Python 3 (ipykernel)",
   "language": "python",
   "name": "python3"
  },
  "language_info": {
   "codemirror_mode": {
    "name": "ipython",
    "version": 3
   },
   "file_extension": ".py",
   "mimetype": "text/x-python",
   "name": "python",
   "nbconvert_exporter": "python",
   "pygments_lexer": "ipython3",
   "version": "3.8.10"
  }
 },
 "nbformat": 4,
 "nbformat_minor": 5
}
