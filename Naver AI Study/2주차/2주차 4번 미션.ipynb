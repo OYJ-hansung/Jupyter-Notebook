{
 "cells": [
  {
   "cell_type": "code",
   "execution_count": 32,
   "id": "c72f79d3",
   "metadata": {},
   "outputs": [],
   "source": [
    "import csv\n",
    "import pprint\n",
    "\n",
    "class ReadCSV():\n",
    "    def __init__(self, file_path):\n",
    "        self.file_path = file_path\n",
    "        self.data_list = list()\n",
    "        self.merged_list = list()\n",
    "        \n",
    "    def read_file(self):\n",
    "        data_list = list()\n",
    "        score_file = open(self.file_path, \"r\" )\n",
    "        csv_data = csv.reader(score_file)\n",
    "        \n",
    "        for idx in csv_data:\n",
    "            data_list.append(idx)\n",
    "        self.data_list = data_list\n",
    "        \n",
    "        score_file.close()\n",
    "        return data_list\n",
    "    \n",
    "    def merge_list(self):\n",
    "        merged_list = list()\n",
    "        \n",
    "        for row in self.data_list:\n",
    "            summation = 0\n",
    "            for num in row:\n",
    "                summation += int(num)\n",
    "            merged_list.append(summation)\n",
    "    \n",
    "        self.merged_list = merged_list\n",
    "        \n",
    "        return merged_list"
   ]
  },
  {
   "cell_type": "code",
   "execution_count": 33,
   "id": "2e7d87c4",
   "metadata": {
    "scrolled": false
   },
   "outputs": [
    {
     "name": "stdout",
     "output_type": "stream",
     "text": [
      "[['73', '80', '75', '152'],\n",
      " ['93', '88', '93', '185'],\n",
      " ['89', '91', '90', '180'],\n",
      " ['96', '98', '100', '196'],\n",
      " ['73', '66', '70', '142'],\n",
      " ['53', '46', '55', '101'],\n",
      " ['69', '74', '77', '149'],\n",
      " ['47', '56', '60', '115'],\n",
      " ['87', '79', '90', '175'],\n",
      " ['79', '70', '88', '164'],\n",
      " ['69', '70', '73', '141'],\n",
      " ['70', '65', '74', '141'],\n",
      " ['93', '95', '91', '184'],\n",
      " ['79', '80', '73', '152'],\n",
      " ['70', '73', '78', '148'],\n",
      " ['93', '89', '96', '192'],\n",
      " ['78', '75', '68', '147'],\n",
      " ['81', '90', '93', '183'],\n",
      " ['88', '92', '86', '177'],\n",
      " ['78', '83', '77', '159'],\n",
      " ['82', '86', '90', '177'],\n",
      " ['86', '82', '89', '175'],\n",
      " ['78', '83', '85', '175'],\n",
      " ['76', '83', '71', '149'],\n",
      " ['96', '93', '95', '192']]\n",
      "[380, 459, 450, 490, 351, 255, 369, 278, 431, 401, 353, 350, 463, 384, 369, 470, 368, 447, 443, 397, 435, 432, 421, 379, 476]\n"
     ]
    }
   ],
   "source": [
    "file_path = \"./csv_files/data-01-test-score.csv\"\n",
    "read_csv = ReadCSV(file_path)\n",
    "\n",
    "pprint.pprint(read_csv.read_file())\n",
    "print(read_csv.merge_list())"
   ]
  },
  {
   "cell_type": "code",
   "execution_count": null,
   "id": "79b152e1",
   "metadata": {},
   "outputs": [],
   "source": []
  }
 ],
 "metadata": {
  "kernelspec": {
   "display_name": "Python 3 (ipykernel)",
   "language": "python",
   "name": "python3"
  },
  "language_info": {
   "codemirror_mode": {
    "name": "ipython",
    "version": 3
   },
   "file_extension": ".py",
   "mimetype": "text/x-python",
   "name": "python",
   "nbconvert_exporter": "python",
   "pygments_lexer": "ipython3",
   "version": "3.8.10"
  }
 },
 "nbformat": 4,
 "nbformat_minor": 5
}
