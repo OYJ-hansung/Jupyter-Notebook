{
 "cells": [
  {
   "cell_type": "code",
   "execution_count": 19,
   "id": "33d52f0c",
   "metadata": {},
   "outputs": [],
   "source": [
    "import csv\n",
    "import pprint\n",
    "\n",
    "class ReadCSV():\n",
    "    def __init__(self, file_path):\n",
    "        self.file_path = file_path\n",
    "        \n",
    "    def read_file(self):\n",
    "        data_list = list()\n",
    "        score_file = open(self.file_path, \"r\" )\n",
    "        csv_data = csv.reader(score_file)\n",
    "        \n",
    "        for idx in csv_data:\n",
    "            data_list.append(idx)\n",
    "            \n",
    "        score_file.close()\n",
    "        \n",
    "        return data_list"
   ]
  },
  {
   "cell_type": "code",
   "execution_count": 20,
   "id": "620364ef",
   "metadata": {
    "scrolled": true
   },
   "outputs": [
    {
     "name": "stdout",
     "output_type": "stream",
     "text": [
      "[['73', '80', '75', '152'],\n",
      " ['93', '88', '93', '185'],\n",
      " ['89', '91', '90', '180'],\n",
      " ['96', '98', '100', '196'],\n",
      " ['73', '66', '70', '142'],\n",
      " ['53', '46', '55', '101'],\n",
      " ['69', '74', '77', '149'],\n",
      " ['47', '56', '60', '115'],\n",
      " ['87', '79', '90', '175'],\n",
      " ['79', '70', '88', '164'],\n",
      " ['69', '70', '73', '141'],\n",
      " ['70', '65', '74', '141'],\n",
      " ['93', '95', '91', '184'],\n",
      " ['79', '80', '73', '152'],\n",
      " ['70', '73', '78', '148'],\n",
      " ['93', '89', '96', '192'],\n",
      " ['78', '75', '68', '147'],\n",
      " ['81', '90', '93', '183'],\n",
      " ['88', '92', '86', '177'],\n",
      " ['78', '83', '77', '159'],\n",
      " ['82', '86', '90', '177'],\n",
      " ['86', '82', '89', '175'],\n",
      " ['78', '83', '85', '175'],\n",
      " ['76', '83', '71', '149'],\n",
      " ['96', '93', '95', '192']]\n"
     ]
    }
   ],
   "source": [
    "file_path = \"./csv_files/data-01-test-score.csv\"\n",
    "read_csv = ReadCSV(file_path)\n",
    "pprint.pprint(read_csv.read_file())"
   ]
  },
  {
   "cell_type": "code",
   "execution_count": 1,
   "id": "7234e965",
   "metadata": {},
   "outputs": [],
   "source": [
    "import csv\n",
    "from pprint import pprint\n",
    "\n",
    "class ReadCSV():\n",
    "\n",
    "    def __init__(self, file_path :str):\n",
    "        self.file_path = file_path\n",
    "        self.lst = self.read_file()\n",
    "        \n",
    "    def read_file(self):\n",
    "        data_set = []\n",
    "        with open(self.file_path, \"r\", encoding=\"cp949\") as p_file:\n",
    "            csv_data = csv.reader(p_file)\n",
    "            for row in csv_data:\n",
    "                data_set.append(list(map(int, row)))                           \n",
    "        return data_set"
   ]
  },
  {
   "cell_type": "code",
   "execution_count": 3,
   "id": "d3d1b333",
   "metadata": {},
   "outputs": [
    {
     "name": "stdout",
     "output_type": "stream",
     "text": [
      "[[73, 80, 75, 152],\n",
      " [93, 88, 93, 185],\n",
      " [89, 91, 90, 180],\n",
      " [96, 98, 100, 196],\n",
      " [73, 66, 70, 142],\n",
      " [53, 46, 55, 101],\n",
      " [69, 74, 77, 149],\n",
      " [47, 56, 60, 115],\n",
      " [87, 79, 90, 175],\n",
      " [79, 70, 88, 164],\n",
      " [69, 70, 73, 141],\n",
      " [70, 65, 74, 141],\n",
      " [93, 95, 91, 184],\n",
      " [79, 80, 73, 152],\n",
      " [70, 73, 78, 148],\n",
      " [93, 89, 96, 192],\n",
      " [78, 75, 68, 147],\n",
      " [81, 90, 93, 183],\n",
      " [88, 92, 86, 177],\n",
      " [78, 83, 77, 159],\n",
      " [82, 86, 90, 177],\n",
      " [86, 82, 89, 175],\n",
      " [78, 83, 85, 175],\n",
      " [76, 83, 71, 149],\n",
      " [96, 93, 95, 192]]\n"
     ]
    }
   ],
   "source": [
    "file_path = \"./csv_files/data-01-test-score.csv\"\n",
    "read_csv = ReadCSV(file_path)\n",
    "pprint(read_csv.read_file())"
   ]
  }
 ],
 "metadata": {
  "kernelspec": {
   "display_name": "Python 3 (ipykernel)",
   "language": "python",
   "name": "python3"
  },
  "language_info": {
   "codemirror_mode": {
    "name": "ipython",
    "version": 3
   },
   "file_extension": ".py",
   "mimetype": "text/x-python",
   "name": "python",
   "nbconvert_exporter": "python",
   "pygments_lexer": "ipython3",
   "version": "3.8.10"
  }
 },
 "nbformat": 4,
 "nbformat_minor": 5
}
