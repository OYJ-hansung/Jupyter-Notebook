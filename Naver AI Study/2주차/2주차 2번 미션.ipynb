{
 "cells": [
  {
   "cell_type": "code",
   "execution_count": 3,
   "id": "14d8dda5",
   "metadata": {},
   "outputs": [],
   "source": [
    "class Car():\n",
    "    def __init__(self, fuel, wheels):\n",
    "        self.fuel = fuel\n",
    "        self.wheels = wheels\n",
    "        \n",
    "class Bike(Car):\n",
    "    def __init__(self, fuel: str, wheels: int, size: str):\n",
    "        super().__init__(fuel, wheels)\n",
    "        self.size = size"
   ]
  },
  {
   "cell_type": "code",
   "execution_count": 4,
   "id": "595fa72e",
   "metadata": {},
   "outputs": [
    {
     "name": "stdout",
     "output_type": "stream",
     "text": [
      "gas 2 small\n"
     ]
    }
   ],
   "source": [
    "bike = Bike(\"gas\", 2, \"small\")\n",
    "print(bike.fuel, bike.wheels, bike.size)"
   ]
  }
 ],
 "metadata": {
  "kernelspec": {
   "display_name": "Python 3 (ipykernel)",
   "language": "python",
   "name": "python3"
  },
  "language_info": {
   "codemirror_mode": {
    "name": "ipython",
    "version": 3
   },
   "file_extension": ".py",
   "mimetype": "text/x-python",
   "name": "python",
   "nbconvert_exporter": "python",
   "pygments_lexer": "ipython3",
   "version": "3.8.10"
  }
 },
 "nbformat": 4,
 "nbformat_minor": 5
}
