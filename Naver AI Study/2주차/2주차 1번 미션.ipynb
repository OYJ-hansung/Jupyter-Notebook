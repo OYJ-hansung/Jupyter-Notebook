{
 "cells": [
  {
   "cell_type": "code",
   "execution_count": 100,
   "id": "ce5d9d55",
   "metadata": {},
   "outputs": [],
   "source": [
    "# 풀이 1\n",
    "class Score():\n",
    "    def __init__(self, mid, final):\n",
    "        self.__mid = mid\n",
    "        self.__final = final\n",
    "        \n",
    "    def score_mid(self):\n",
    "        return print(self.__mid)\n",
    "        \n",
    "    def score_final(self):\n",
    "        return print(self.__final)\n",
    "    \n",
    "    def score_average(self):\n",
    "        return ((self.__mid + self.__final)/2)"
   ]
  },
  {
   "cell_type": "code",
   "execution_count": 101,
   "id": "20bb59be",
   "metadata": {},
   "outputs": [
    {
     "name": "stdout",
     "output_type": "stream",
     "text": [
      "50\n",
      "75\n"
     ]
    },
    {
     "data": {
      "text/plain": [
       "62.5"
      ]
     },
     "execution_count": 101,
     "metadata": {},
     "output_type": "execute_result"
    }
   ],
   "source": [
    "#출력함수\n",
    "score = Score(50, 75)\n",
    "score.score_mid()\n",
    "score.score_final()\n",
    "score.score_average()"
   ]
  },
  {
   "cell_type": "code",
   "execution_count": 102,
   "id": "57692a48",
   "metadata": {},
   "outputs": [
    {
     "data": {
      "text/plain": [
       "{'_Score__mid': 50, '_Score__final': 75}"
      ]
     },
     "execution_count": 102,
     "metadata": {},
     "output_type": "execute_result"
    }
   ],
   "source": [
    "score.__dict__"
   ]
  },
  {
   "cell_type": "code",
   "execution_count": 103,
   "id": "6ae7a237",
   "metadata": {},
   "outputs": [
    {
     "name": "stdout",
     "output_type": "stream",
     "text": [
      "50\n",
      "75\n",
      "62.5\n"
     ]
    }
   ],
   "source": [
    "# 풀이 2\n",
    "class Student_Score():\n",
    "    def __init__(self):\n",
    "        self.__mid = 0\n",
    "        self.__final = 0\n",
    "            \n",
    "    @property\n",
    "    def Score_mid(self):\n",
    "        return self.__mid\n",
    "\n",
    "    @Score_mid.setter\n",
    "    def Score_mid(self, mid):\n",
    "        self.__mid = mid\n",
    "\n",
    "    @property\n",
    "    def Score_final(self):\n",
    "        return self.__final\n",
    "\n",
    "    @Score_final.setter\n",
    "    def Score_final(self, final):\n",
    "        self.__final = final\n",
    "\n",
    "    def Score_average(self):\n",
    "        score_average = (self.__mid + self.__final) / 2\n",
    "        print (score_average)\n",
    "        \n",
    "score = Student_Score()\n",
    "score.Score_mid = 50\n",
    "print(score.Score_mid)\n",
    "score.Score_final = 75\n",
    "print(score.Score_final)\n",
    "score.Score_average()"
   ]
  },
  {
   "cell_type": "code",
   "execution_count": 40,
   "id": "a8f29a74",
   "metadata": {},
   "outputs": [],
   "source": [
    "# mid - 50 / final - 75\n",
    "\n",
    "class Score():\n",
    "    def __init__(self, mid, final):\n",
    "        self.__mid = mid\n",
    "        self.__final = final\n",
    "        print(f\"중간고사 점수 : {mid}\")\n",
    "        print(f\"기말고사 점수 : {final}\")\n",
    "        \n",
    "    @property\n",
    "    def mid(self):\n",
    "        return self.__mid\n",
    "    \n",
    "    @mid.setter\n",
    "    def mid(self, mid):\n",
    "        self.__mid = mid\n",
    "        print(f\"중간고사 점수 : {mid}\")\n",
    "    \n",
    "    @property\n",
    "    def final(self):\n",
    "        return self.__final\n",
    "    \n",
    "    @final.setter\n",
    "    def final(self, final):\n",
    "        self.__final = final\n",
    "    \n",
    "    def average(self):\n",
    "        average = (self.__mid + self.__final) / 2\n",
    "        return average"
   ]
  },
  {
   "cell_type": "code",
   "execution_count": 43,
   "id": "fef3c3c4",
   "metadata": {},
   "outputs": [
    {
     "name": "stdout",
     "output_type": "stream",
     "text": [
      "중간고사 점수 : 50\n",
      "기말고사 점수 : 75\n",
      "평균 점수 : 62.5\n"
     ]
    }
   ],
   "source": [
    "score = Score(50, 75)\n",
    "print('평균 점수 :', score.average())"
   ]
  }
 ],
 "metadata": {
  "kernelspec": {
   "display_name": "Python 3 (ipykernel)",
   "language": "python",
   "name": "python3"
  },
  "language_info": {
   "codemirror_mode": {
    "name": "ipython",
    "version": 3
   },
   "file_extension": ".py",
   "mimetype": "text/x-python",
   "name": "python",
   "nbconvert_exporter": "python",
   "pygments_lexer": "ipython3",
   "version": "3.8.10"
  }
 },
 "nbformat": 4,
 "nbformat_minor": 5
}
